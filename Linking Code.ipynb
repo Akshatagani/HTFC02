{
 "cells": [
  {
   "cell_type": "code",
   "execution_count": null,
   "id": "3dfa471d",
   "metadata": {},
   "outputs": [],
   "source": [
    "import csv\n",
    "\n",
    "class BankingSystem:\n",
    "    def __init__(self, csv_file):\n",
    "        \n",
    "        self.customer_data = {}\n",
    "        \n",
    "        \n",
    "        with open(csv_file, 'r') as file:\n",
    "            reader = csv.DictReader(file)\n",
    "            for row in reader:\n",
    "                account_number = row['account_number']\n",
    "                self.customer_data[account_number] = {\n",
    "                    'Name': row['Name'],\n",
    "                    'Balance': float(row['Balance']),\n",
    "                    'Age': row['Age']\n",
    "                }\n",
    "\n",
    "    def get_customer_data(self, account_number):\n",
    "        \n",
    "        if account_number in self.customer_data:\n",
    "            \n",
    "            return self.customer_data[account_number].copy()\n",
    "        else:\n",
    "            return None\n",
    "\n",
    "\n",
    "bank = BankingSystem(\"C:\\\\Users\\\\Akshata\\\\Desktop\\\\bankk._data.csv\")\n",
    "\n",
    "def input_account_number():\n",
    "    return input(\"Enter your account number: \")\n",
    "\n",
    "\n",
    "account_number = input_account_number()\n",
    "\n",
    "\n",
    "customer_data = bank.get_customer_data(account_number)\n",
    "if customer_data:\n",
    "    print(\"Customer data:\")\n",
    "    print(customer_data)\n",
    "else:\n",
    "    print(\"Invalid account number. Data retrieval failed.\")\n"
   ]
  },
  {
   "cell_type": "code",
   "execution_count": null,
   "id": "89d6ad6d",
   "metadata": {},
   "outputs": [],
   "source": []
  }
 ],
 "metadata": {
  "kernelspec": {
   "display_name": "Python 3 (ipykernel)",
   "language": "python",
   "name": "python3"
  },
  "language_info": {
   "codemirror_mode": {
    "name": "ipython",
    "version": 3
   },
   "file_extension": ".py",
   "mimetype": "text/x-python",
   "name": "python",
   "nbconvert_exporter": "python",
   "pygments_lexer": "ipython3",
   "version": "3.9.13"
  }
 },
 "nbformat": 4,
 "nbformat_minor": 5
}
